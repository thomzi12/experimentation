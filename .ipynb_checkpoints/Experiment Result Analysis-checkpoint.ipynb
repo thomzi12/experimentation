{
 "cells": [
  {
   "cell_type": "markdown",
   "metadata": {},
   "source": [
    "# Experimentation Code (Z-test of proportions)\n"
   ]
  },
  {
   "cell_type": "markdown",
   "metadata": {},
   "source": [
    "Zachary Thomas - 1/5/2019"
   ]
  },
  {
   "cell_type": "code",
   "execution_count": 1,
   "metadata": {
    "collapsed": true
   },
   "outputs": [],
   "source": [
    "from scipy.stats import norm"
   ]
  },
  {
   "cell_type": "markdown",
   "metadata": {},
   "source": [
    "## Analyze Results "
   ]
  },
  {
   "cell_type": "markdown",
   "metadata": {},
   "source": [
    "### Hypothesis Test parameters  "
   ]
  },
  {
   "cell_type": "markdown",
   "metadata": {},
   "source": [
    "\n",
    "H<sub>0</sub> = there is no difference in engagement between control and experiment <br/>\n",
    "H<sub>1</sub> = there is a difference in engagement between control and experiment \n",
    "\n",
    "With alpha = .05, we'll use the z-test of proportions to determine statistical significance of the difference. I will calculate a 95% confidence interval around the sample difference. "
   ]
  },
  {
   "cell_type": "markdown",
   "metadata": {},
   "source": [
    "### 95% C.I. of difference of proportions"
   ]
  },
  {
   "cell_type": "code",
   "execution_count": 15,
   "metadata": {
    "ExecuteTime": {
     "end_time": "2019-01-06T02:50:34.989727Z",
     "start_time": "2019-01-06T02:50:34.971941Z"
    },
    "collapsed": true
   },
   "outputs": [],
   "source": [
    "def ninety_five_ci(control_n, control_x, exp_n, exp_x, alpha = .05, two_tailed = True):\n",
    "    '''\n",
    "    INPUT: No. of control observations, No. of positive examples in control, \n",
    "                No. of experiment group observations, No. of positive examples in experiment group\n",
    "    OUTPUT: String of 95% Confidence Interval of the difference in proportions \n",
    "    '''\n",
    "    # compute pooled mean \n",
    "    p_pool = (control_x + exp_x)/(control_n+exp_n)\n",
    "    \n",
    "    # compute standard error \n",
    "    SE = ((p_pool)*(1-p_pool)*(1/control_n + 1/exp_n))**.5\n",
    "      \n",
    "    # compute sample proportion differnce \n",
    "    diff_hat = exp_x/exp_n - control_x/control_n\n",
    "    \n",
    "    if two_tailed: \n",
    "        # Since we are looking at two-tailed test with alpha = .05, our z-score is: \n",
    "        z_value = norm.ppf((1+(1-alpha))/2)\n",
    "    else:\n",
    "        z_value = norm.ppf((1-alpha))\n",
    "        \n",
    "    # Get upper and lower bounds of 95% confidence interval \n",
    "    lower_95_value = diff_hat - z_value*SE\n",
    "    upper_95_value = diff_hat + z_value*SE \n",
    "    \n",
    "    return \"95% confidence interval for difference in group proportions: ({:.4f}, {:.4f})\".format(lower_95_value, upper_95_value)"
   ]
  }
 ],
 "metadata": {
  "kernelspec": {
   "display_name": "Python 3",
   "language": "python",
   "name": "python3"
  },
  "language_info": {
   "codemirror_mode": {
    "name": "ipython",
    "version": 3
   },
   "file_extension": ".py",
   "mimetype": "text/x-python",
   "name": "python",
   "nbconvert_exporter": "python",
   "pygments_lexer": "ipython3",
   "version": "3.6.8"
  },
  "toc": {
   "nav_menu": {},
   "number_sections": true,
   "sideBar": true,
   "skip_h1_title": false,
   "toc_cell": false,
   "toc_position": {},
   "toc_section_display": "block",
   "toc_window_display": true
  }
 },
 "nbformat": 4,
 "nbformat_minor": 2
}
